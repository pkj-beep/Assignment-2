{
  "cells": [
    {
      "cell_type": "markdown",
      "source": [
        "#1. Write a code to create a string with your name and print it."
      ],
      "metadata": {
        "id": "1vzQ1mL3OfZl"
      }
    },
    {
      "cell_type": "code",
      "source": [
        "my_name = \"Pradeep Kumar\"\n",
        "print(my_name)"
      ],
      "outputs": [
        {
          "output_type": "stream",
          "name": "stdout",
          "text": [
            "Pradeep Kumar\n"
          ]
        }
      ],
      "execution_count": null,
      "metadata": {
        "colab": {
          "base_uri": "https://localhost:8080/"
        },
        "id": "qoBCG5SyOfZp",
        "outputId": "7f5776eb-8db4-44a4-b394-e5cc58e75497"
      }
    },
    {
      "cell_type": "markdown",
      "source": [
        "#2. Write a code to find the length of the string \"Hello World\"."
      ],
      "metadata": {
        "id": "7nfNyzTaOfZr"
      }
    },
    {
      "cell_type": "code",
      "source": [
        "my_string = \"Hello World\"\n",
        "print(len(my_string))"
      ],
      "outputs": [
        {
          "output_type": "stream",
          "name": "stdout",
          "text": [
            "11\n"
          ]
        }
      ],
      "execution_count": null,
      "metadata": {
        "colab": {
          "base_uri": "https://localhost:8080/"
        },
        "id": "7-sIDTbuOfZs",
        "outputId": "ccd48178-d027-4c37-a76d-2591d95316f8"
      }
    },
    {
      "cell_type": "markdown",
      "source": [
        "#3. Write a code to slice the first 3 characters from the string \"Python Programming\"."
      ],
      "metadata": {
        "id": "q1GOeioyOfZs"
      }
    },
    {
      "cell_type": "code",
      "source": [
        "my_string = \"Python Programming\"\n",
        "print(my_string[0:3])\n",
        "    # Or simply:\n",
        "    # print(my_string[:3])"
      ],
      "outputs": [
        {
          "output_type": "stream",
          "name": "stdout",
          "text": [
            "Pyt\n"
          ]
        }
      ],
      "execution_count": null,
      "metadata": {
        "colab": {
          "base_uri": "https://localhost:8080/"
        },
        "id": "wXApeh1AOfZt",
        "outputId": "b596b7c0-1b60-40bf-fe9a-be0c762abe77"
      }
    },
    {
      "cell_type": "markdown",
      "source": [
        "#4. Write a code to convert the string \"hello\" to uppercase."
      ],
      "metadata": {
        "id": "BxhPnfg2OfZt"
      }
    },
    {
      "cell_type": "code",
      "source": [
        "my_string = \"hello\"\n",
        "print(my_string.upper())"
      ],
      "outputs": [
        {
          "output_type": "stream",
          "name": "stdout",
          "text": [
            "HELLO\n"
          ]
        }
      ],
      "execution_count": null,
      "metadata": {
        "colab": {
          "base_uri": "https://localhost:8080/"
        },
        "id": "ZxuMpWiHOfZt",
        "outputId": "de02b073-859c-43b3-e145-1f5df09cabbb"
      }
    },
    {
      "cell_type": "markdown",
      "source": [
        "#5. Write a code to replace the word \"apple\" with \"orange\" in the string \"I like apple\"."
      ],
      "metadata": {
        "id": "pq9Dn1ubOfZu"
      }
    },
    {
      "cell_type": "code",
      "source": [
        "my_string = \"I like apple\"\n",
        "print(my_string.replace(\"apple\", \"orange\"))"
      ],
      "outputs": [
        {
          "output_type": "stream",
          "name": "stdout",
          "text": [
            "I like orange\n"
          ]
        }
      ],
      "execution_count": null,
      "metadata": {
        "colab": {
          "base_uri": "https://localhost:8080/"
        },
        "id": "UWoG8cGEOfZu",
        "outputId": "8b00750e-df0f-405e-bc8b-4244578a7914"
      }
    },
    {
      "cell_type": "markdown",
      "source": [
        "#6. Write a code to create a list with numbers 1 to 5 and print it."
      ],
      "metadata": {
        "id": "rBGP1NtKOfZv"
      }
    },
    {
      "cell_type": "code",
      "source": [
        "my_list = [1, 2, 3, 4, 5]\n",
        "print(my_list)"
      ],
      "outputs": [
        {
          "output_type": "stream",
          "name": "stdout",
          "text": [
            "[1, 2, 3, 4, 5]\n"
          ]
        }
      ],
      "execution_count": null,
      "metadata": {
        "colab": {
          "base_uri": "https://localhost:8080/"
        },
        "id": "tJGUQBnYOfZv",
        "outputId": "15d31f15-a329-4693-b6eb-b266462fbec4"
      }
    },
    {
      "cell_type": "markdown",
      "source": [
        "#7. Write a code to append the number 10 to the list [1, 2, 3, 4]."
      ],
      "metadata": {
        "id": "6SUE0dTJOfZw"
      }
    },
    {
      "cell_type": "code",
      "source": [
        "my_list = [1, 2, 3, 4]\n",
        "my_list.append(10)\n",
        "print(my_list)"
      ],
      "outputs": [
        {
          "output_type": "stream",
          "name": "stdout",
          "text": [
            "[1, 2, 3, 4, 10]\n"
          ]
        }
      ],
      "execution_count": null,
      "metadata": {
        "colab": {
          "base_uri": "https://localhost:8080/"
        },
        "id": "Vuks_lZCOfZw",
        "outputId": "4dca942f-ed6d-4fb4-b85c-382d9c62f7f0"
      }
    },
    {
      "cell_type": "markdown",
      "source": [
        "#8. Write a code to remove the number 3 from the list [1, 2, 3, 4, 5]."
      ],
      "metadata": {
        "id": "mHALk4mVOfZw"
      }
    },
    {
      "cell_type": "code",
      "source": [
        "my_list = [1, 2, 3, 4, 5]\n",
        "my_list.remove(3)\n",
        "print(my_list)"
      ],
      "outputs": [
        {
          "output_type": "stream",
          "name": "stdout",
          "text": [
            "[1, 2, 4, 5]\n"
          ]
        }
      ],
      "execution_count": null,
      "metadata": {
        "colab": {
          "base_uri": "https://localhost:8080/"
        },
        "id": "1pfRoe2tOfZx",
        "outputId": "3c9cdf5c-7d68-4f50-d2f7-97d73952784d"
      }
    },
    {
      "cell_type": "markdown",
      "source": [
        "#9. Write a code to access the second element in the list ['a', 'b', 'c', 'd']."
      ],
      "metadata": {
        "id": "Xj_QI4faOfZy"
      }
    },
    {
      "cell_type": "code",
      "source": [
        "my_list = ['a', 'b', 'c', 'd']\n",
        "print(my_list[1])"
      ],
      "outputs": [
        {
          "output_type": "stream",
          "name": "stdout",
          "text": [
            "b\n"
          ]
        }
      ],
      "execution_count": null,
      "metadata": {
        "colab": {
          "base_uri": "https://localhost:8080/"
        },
        "id": "1qwYTLNAOfZy",
        "outputId": "5b88803c-1adf-447f-8c0c-69884cc766d4"
      }
    },
    {
      "cell_type": "markdown",
      "source": [
        "#10. Write a code to reverse the list [10, 20, 30, 40, 50]."
      ],
      "metadata": {
        "id": "7mAcbNldOfZy"
      }
    },
    {
      "cell_type": "code",
      "source": [
        "my_list = [10, 20, 30, 40, 50]\n",
        "my_list.reverse()\n",
        "print(my_list)\n",
        "    # Alternatively, using slicing:\n",
        "    # my_list = [10, 20, 30, 40, 50]\n",
        "    # reversed_list = my_list[::-1]\n",
        "    # print(reversed_list)"
      ],
      "outputs": [
        {
          "output_type": "stream",
          "name": "stdout",
          "text": [
            "[50, 40, 30, 20, 10]\n"
          ]
        }
      ],
      "execution_count": null,
      "metadata": {
        "colab": {
          "base_uri": "https://localhost:8080/"
        },
        "id": "NC8aYtpDOfZy",
        "outputId": "82dd4bbd-b73a-4116-8683-c7f335d6acf4"
      }
    },
    {
      "cell_type": "markdown",
      "source": [
        "#11. Write a code to create a tuple with the elements 100, 200, 300 and print it."
      ],
      "metadata": {
        "id": "AjU-p23qOfZz"
      }
    },
    {
      "cell_type": "code",
      "source": [
        "my_tuple = (100, 200, 300)\n",
        "print(my_tuple)"
      ],
      "outputs": [
        {
          "output_type": "stream",
          "name": "stdout",
          "text": [
            "(100, 200, 300)\n"
          ]
        }
      ],
      "execution_count": null,
      "metadata": {
        "colab": {
          "base_uri": "https://localhost:8080/"
        },
        "id": "1UbglyAIOfZz",
        "outputId": "f75e4ff2-5189-47e9-f347-a9c198002553"
      }
    },
    {
      "cell_type": "markdown",
      "source": [
        "#12. Write a code to access the second-to-last element of the tuple ('red', 'green', 'blue', 'yellow')."
      ],
      "metadata": {
        "id": "Gd1RxrxkOfZz"
      }
    },
    {
      "cell_type": "code",
      "source": [
        "my_tuple = ('red', 'green', 'blue', 'yellow')\n",
        "print(my_tuple[-2])"
      ],
      "outputs": [
        {
          "output_type": "stream",
          "name": "stdout",
          "text": [
            "blue\n"
          ]
        }
      ],
      "execution_count": null,
      "metadata": {
        "colab": {
          "base_uri": "https://localhost:8080/"
        },
        "id": "AltUIyjxOfZz",
        "outputId": "eb2b7960-54af-4811-cff4-d8f3d060bdf9"
      }
    },
    {
      "cell_type": "markdown",
      "source": [
        "#13. Write a code to find the minimum number in the tuple (10, 20, 5, 15)."
      ],
      "metadata": {
        "id": "HLqyI39HOfZz"
      }
    },
    {
      "cell_type": "code",
      "source": [
        "my_tuple = (10, 20, 5, 15)\n",
        "print(min(my_tuple))"
      ],
      "outputs": [
        {
          "output_type": "stream",
          "name": "stdout",
          "text": [
            "5\n"
          ]
        }
      ],
      "execution_count": null,
      "metadata": {
        "colab": {
          "base_uri": "https://localhost:8080/"
        },
        "id": "_8bBL3kVOfZz",
        "outputId": "dab6f9a6-6f1f-49c2-9bfe-44deeb6a0346"
      }
    },
    {
      "cell_type": "markdown",
      "source": [
        "#14. Write a code to find the index of the element \"cat\" in the tuple ('dog', 'cat', 'rabbit')."
      ],
      "metadata": {
        "id": "1Aq0fMr0OfZ0"
      }
    },
    {
      "cell_type": "code",
      "source": [
        "my_tuple = ('dog', 'cat', 'rabbit')\n",
        "print(my_tuple.index(\"cat\"))"
      ],
      "outputs": [
        {
          "output_type": "stream",
          "name": "stdout",
          "text": [
            "1\n"
          ]
        }
      ],
      "execution_count": null,
      "metadata": {
        "colab": {
          "base_uri": "https://localhost:8080/"
        },
        "id": "EPyijaMkOfZ0",
        "outputId": "9611a1b9-1437-4af4-db1d-0a2819ff9b77"
      }
    },
    {
      "cell_type": "markdown",
      "source": [
        "#15. Write a code to create a tuple containing three different fruits and check if \"kiwi\" is in it."
      ],
      "metadata": {
        "id": "3zy4jiYQOfZ0"
      }
    },
    {
      "cell_type": "code",
      "source": [
        "fruits_tuple = (\"apple\", \"banana\", \"orange\")\n",
        "print(\"kiwi\" in fruits_tuple)"
      ],
      "outputs": [
        {
          "output_type": "stream",
          "name": "stdout",
          "text": [
            "False\n"
          ]
        }
      ],
      "execution_count": null,
      "metadata": {
        "colab": {
          "base_uri": "https://localhost:8080/"
        },
        "id": "Bt6qaNf3OfZ0",
        "outputId": "eadb4d90-a108-42bf-9b11-3f2610fdcad5"
      }
    },
    {
      "cell_type": "markdown",
      "source": [
        "#16. Write a code to create a set with the elements 'a', 'b', 'c' and print it."
      ],
      "metadata": {
        "id": "DgqupoL6OfZ0"
      }
    },
    {
      "cell_type": "code",
      "source": [
        "my_set = {'a', 'b', 'c'}\n",
        "print(my_set)"
      ],
      "outputs": [
        {
          "output_type": "stream",
          "name": "stdout",
          "text": [
            "{'c', 'b', 'a'}\n"
          ]
        }
      ],
      "execution_count": null,
      "metadata": {
        "colab": {
          "base_uri": "https://localhost:8080/"
        },
        "id": "Fp-ukHAFOfZ0",
        "outputId": "71b71b03-d1a3-40ae-c265-cdd8ffa56b42"
      }
    },
    {
      "cell_type": "markdown",
      "source": [
        "#17. Write a code to clear all elements from the set {1, 2, 3, 4, 5}."
      ],
      "metadata": {
        "id": "aQqQNPuHOfZ0"
      }
    },
    {
      "cell_type": "code",
      "source": [
        "my_set = {1, 2, 3, 4, 5}\n",
        "my_set.clear()\n",
        "print(my_set)"
      ],
      "outputs": [
        {
          "output_type": "stream",
          "name": "stdout",
          "text": [
            "set()\n"
          ]
        }
      ],
      "execution_count": null,
      "metadata": {
        "colab": {
          "base_uri": "https://localhost:8080/"
        },
        "id": "Wp05NGjPOfZ1",
        "outputId": "d364b93f-552a-4036-81da-2c41ba5e9033"
      }
    },
    {
      "cell_type": "markdown",
      "source": [
        "#18. Write a code to remove element 4 from the set {1, 2, 3, 4}."
      ],
      "metadata": {
        "id": "j1mZZUKlOfZ1"
      }
    },
    {
      "cell_type": "code",
      "source": [
        "my_set = {1, 2, 3, 4}\n",
        "my_set.remove(4)\n",
        "print(my_set)"
      ],
      "outputs": [
        {
          "output_type": "stream",
          "name": "stdout",
          "text": [
            "{1, 2, 3}\n"
          ]
        }
      ],
      "execution_count": null,
      "metadata": {
        "colab": {
          "base_uri": "https://localhost:8080/"
        },
        "id": "78pHCJAbOfZ1",
        "outputId": "89ad78ff-9c0b-45ba-a56f-f2542459f295"
      }
    },
    {
      "cell_type": "markdown",
      "source": [
        "#19. Write a code to find the union of two sets {1, 2, 3} and {3, 4, 5}."
      ],
      "metadata": {
        "id": "Ph2UL2swOfZ1"
      }
    },
    {
      "cell_type": "code",
      "source": [
        "set1 = {1, 2, 3}\n",
        "set2 = {3, 4, 5}\n",
        "print(set1.union(set2))\n",
        "    # Alternatively:\n",
        "    # print(set1 | set2)"
      ],
      "outputs": [
        {
          "output_type": "stream",
          "name": "stdout",
          "text": [
            "{1, 2, 3, 4, 5}\n"
          ]
        }
      ],
      "execution_count": null,
      "metadata": {
        "colab": {
          "base_uri": "https://localhost:8080/"
        },
        "id": "JYRX51uSOfZ1",
        "outputId": "bd1b1d05-cd59-4c0c-8716-3743f53bd463"
      }
    },
    {
      "cell_type": "markdown",
      "source": [
        "#20. Write a code to find the intersection of two sets {1, 2, 3} and {2, 3, 4}."
      ],
      "metadata": {
        "id": "equ2WxBwOfZ3"
      }
    },
    {
      "cell_type": "code",
      "source": [
        "set1 = {1, 2, 3}\n",
        "set2 = {2, 3, 4}\n",
        "print(set1.intersection(set2))\n",
        "    # Alternatively:\n",
        "    # print(set1 & set2)"
      ],
      "outputs": [
        {
          "output_type": "stream",
          "name": "stdout",
          "text": [
            "{2, 3}\n"
          ]
        }
      ],
      "execution_count": null,
      "metadata": {
        "colab": {
          "base_uri": "https://localhost:8080/"
        },
        "id": "emz5DeuvOfaC",
        "outputId": "5eb4059d-ab01-420f-bb73-2b80e8e20ce8"
      }
    },
    {
      "cell_type": "markdown",
      "source": [
        "#21. Write a code to create a dictionary with the keys \"name\", \"age\", and \"city\", and print it."
      ],
      "metadata": {
        "id": "k0gjpfR5OfaD"
      }
    },
    {
      "cell_type": "code",
      "source": [
        "my_dict = {\n",
        "\"name\": \"Jane\",\n",
        "\"age\": 30,\n",
        "\"city\": \"London\"\n",
        "}\n",
        "print(my_dict)"
      ],
      "outputs": [
        {
          "output_type": "stream",
          "name": "stdout",
          "text": [
            "{'name': 'Jane', 'age': 30, 'city': 'London'}\n"
          ]
        }
      ],
      "execution_count": null,
      "metadata": {
        "colab": {
          "base_uri": "https://localhost:8080/"
        },
        "id": "3VlnkihIOfaD",
        "outputId": "471ee94f-2edd-40a2-deeb-5768c893420f"
      }
    },
    {
      "cell_type": "markdown",
      "source": [
        "#22. Write a code to add a new key-value pair \"country\": \"USA\" to the dictionary {'name': 'John', 'age': 25}."
      ],
      "metadata": {
        "id": "IYcvFnbtOfaD"
      }
    },
    {
      "cell_type": "code",
      "source": [
        "my_dict = {'name': 'John', 'age': 25}\n",
        "my_dict[\"country\"] = \"USA\"\n",
        "print(my_dict)"
      ],
      "outputs": [
        {
          "output_type": "stream",
          "name": "stdout",
          "text": [
            "{'name': 'John', 'age': 25, 'country': 'USA'}\n"
          ]
        }
      ],
      "execution_count": null,
      "metadata": {
        "colab": {
          "base_uri": "https://localhost:8080/"
        },
        "id": "S1BfBqTFOfaE",
        "outputId": "0fa5f78e-69f8-4eb5-caf6-bcce2ac3fb10"
      }
    },
    {
      "cell_type": "markdown",
      "source": [
        "#23. Write a code to access the value associated with the key \"name\" in the dictionary {'name': 'Alice', 'age': 30}."
      ],
      "metadata": {
        "id": "LBNrc7TCOfaE"
      }
    },
    {
      "cell_type": "code",
      "source": [
        "my_dict = {'name': 'Alice', 'age': 30}\n",
        "print(my_dict[\"name\"])"
      ],
      "outputs": [
        {
          "output_type": "stream",
          "name": "stdout",
          "text": [
            "Alice\n"
          ]
        }
      ],
      "execution_count": null,
      "metadata": {
        "colab": {
          "base_uri": "https://localhost:8080/"
        },
        "id": "g-ifxNWHOfaF",
        "outputId": "299a16a7-48eb-433a-b5d7-88ddd29ee77c"
      }
    },
    {
      "cell_type": "markdown",
      "source": [
        "#24. Write a code to remove the key \"age\" from the dictionary {'name': 'Bob', 'age': 22, 'city': 'New York'}.** [cite: 39]"
      ],
      "metadata": {
        "id": "me8lHijAOfaF"
      }
    },
    {
      "cell_type": "code",
      "source": [
        "my_dict = {'name': 'Bob', 'age': 22, 'city': 'New York'}\n",
        "del my_dict[\"age\"]\n",
        "print(my_dict)"
      ],
      "outputs": [
        {
          "output_type": "stream",
          "name": "stdout",
          "text": [
            "{'name': 'Bob', 'city': 'New York'}\n"
          ]
        }
      ],
      "execution_count": null,
      "metadata": {
        "colab": {
          "base_uri": "https://localhost:8080/"
        },
        "id": "xzAMtpHEOfaF",
        "outputId": "71c903e1-d8f8-4390-d706-20e77fb8d21a"
      }
    },
    {
      "cell_type": "markdown",
      "source": [
        "#25. Write a code to check if the key \"city\" exists in the dictionary {'name': 'Alice', 'city': 'Paris'}."
      ],
      "metadata": {
        "id": "A4HcNHP8OfaF"
      }
    },
    {
      "cell_type": "code",
      "source": [
        "my_dict = {'name': 'Alice', 'city': 'Paris'}\n",
        "print(\"city\" in my_dict)"
      ],
      "outputs": [
        {
          "output_type": "stream",
          "name": "stdout",
          "text": [
            "True\n"
          ]
        }
      ],
      "execution_count": null,
      "metadata": {
        "colab": {
          "base_uri": "https://localhost:8080/"
        },
        "id": "ggnlxLEgOfaG",
        "outputId": "73e84bdf-1b60-4020-9156-4a937239e73e"
      }
    },
    {
      "cell_type": "markdown",
      "source": [
        "#26. Write a code to create a list, a tuple, and a dictionary, and print them all."
      ],
      "metadata": {
        "id": "BI2oKsKBOfaG"
      }
    },
    {
      "cell_type": "code",
      "source": [
        "my_list = [1, 2, \"hello\"]\n",
        "my_tuple = (10, \"world\", 20)\n",
        "my_dictionary = {\"key1\": \"value1\", \"key2\": 123}\n",
        "\n",
        "print(\"List:\", my_list)\n",
        "print(\"Tuple:\", my_tuple)\n",
        "print(\"Dictionary:\", my_dictionary)"
      ],
      "outputs": [
        {
          "output_type": "stream",
          "name": "stdout",
          "text": [
            "List: [1, 2, 'hello']\n",
            "Tuple: (10, 'world', 20)\n",
            "Dictionary: {'key1': 'value1', 'key2': 123}\n"
          ]
        }
      ],
      "execution_count": null,
      "metadata": {
        "colab": {
          "base_uri": "https://localhost:8080/"
        },
        "id": "Vdc-1OUVOfaG",
        "outputId": "b4594d8e-b591-4ba9-be00-faa4055cbd90"
      }
    },
    {
      "cell_type": "markdown",
      "source": [
        "#27. Write a code to create a list of 5 random numbers between 1 and 100, sort it in ascending order, and print the result."
      ],
      "metadata": {
        "id": "y7MT8qkhOfaG"
      }
    },
    {
      "cell_type": "code",
      "source": [
        "import random\n",
        "\n",
        "random_numbers = []\n",
        "for _ in range(5):\n",
        "  random_numbers.append(random.randint(1, 100))\n",
        "\n",
        "random_numbers.sort()\n",
        "print(random_numbers)"
      ],
      "outputs": [
        {
          "output_type": "stream",
          "name": "stdout",
          "text": [
            "[10, 22, 48, 69, 76]\n"
          ]
        }
      ],
      "execution_count": null,
      "metadata": {
        "colab": {
          "base_uri": "https://localhost:8080/"
        },
        "id": "MNcTjM2EOfaG",
        "outputId": "262410cd-5b01-4343-f68b-43d569dc1c87"
      }
    },
    {
      "cell_type": "markdown",
      "source": [
        "#28. Write a code to create a list with strings and print the element at the third index."
      ],
      "metadata": {
        "id": "9GJLQqUxOfaH"
      }
    },
    {
      "cell_type": "code",
      "source": [
        "my_string_list = [\"apple\", \"banana\", \"cherry\", \"date\", \"elderberry\"]\n",
        "print(my_string_list[3])"
      ],
      "outputs": [
        {
          "output_type": "stream",
          "name": "stdout",
          "text": [
            "date\n"
          ]
        }
      ],
      "execution_count": null,
      "metadata": {
        "colab": {
          "base_uri": "https://localhost:8080/"
        },
        "id": "VGnTNyGtOfaH",
        "outputId": "8f5b4057-205a-40f2-f3d1-201ee710b8a4"
      }
    },
    {
      "cell_type": "markdown",
      "source": [
        "#29. Write a code to combine two dictionaries into one and print the result."
      ],
      "metadata": {
        "id": "YtHvRijsOfaH"
      }
    },
    {
      "cell_type": "code",
      "source": [
        "dict1 = {'a': 1, 'b': 2}\n",
        "dict2 = {'c': 3, 'd': 4}\n",
        "\n",
        "combined_dict = {**dict1, **dict2}\n",
        "print(combined_dict)\n",
        "    # Alternatively, for Python 3.9+:\n",
        "    # combined_dict = dict1 | dict2\n",
        "    # print(combined_dict)"
      ],
      "outputs": [
        {
          "output_type": "stream",
          "name": "stdout",
          "text": [
            "{'a': 1, 'b': 2, 'c': 3, 'd': 4}\n"
          ]
        }
      ],
      "execution_count": null,
      "metadata": {
        "colab": {
          "base_uri": "https://localhost:8080/"
        },
        "id": "wsXxN96IOfaH",
        "outputId": "41c36cb5-967b-43ab-a023-ba9cb4f988de"
      }
    },
    {
      "cell_type": "markdown",
      "source": [
        "#30. Write a code to convert a list of strings into a set."
      ],
      "metadata": {
        "id": "P54p2KnCOfaH"
      }
    },
    {
      "cell_type": "code",
      "source": [
        "string_list = [\"apple\", \"banana\", \"apple\", \"orange\"]\n",
        "string_set = set(string_list)\n",
        "print(string_set)"
      ],
      "outputs": [
        {
          "output_type": "stream",
          "name": "stdout",
          "text": [
            "{'orange', 'banana', 'apple'}\n"
          ]
        }
      ],
      "execution_count": null,
      "metadata": {
        "colab": {
          "base_uri": "https://localhost:8080/"
        },
        "id": "DCXRCenROfaI",
        "outputId": "a95e886a-baa7-4643-cdf6-6ac4f4128546"
      }
    },
    {
      "cell_type": "code",
      "source": [],
      "metadata": {
        "id": "sVdNrXKzSwBM"
      },
      "execution_count": null,
      "outputs": []
    }
  ],
  "metadata": {
    "colab": {
      "provenance": []
    },
    "kernelspec": {
      "display_name": "Python 3",
      "name": "python3"
    }
  },
  "nbformat": 4,
  "nbformat_minor": 0
}