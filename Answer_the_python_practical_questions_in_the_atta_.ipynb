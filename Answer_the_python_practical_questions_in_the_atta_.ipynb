{
  "cells": [
    {
      "cell_type": "markdown",
      "metadata": {
        "id": "view-in-github",
        "colab_type": "text"
      },
      "source": [
        "<a href=\"https://colab.research.google.com/github/pkj-beep/Assignment-2/blob/main/Answer_the_python_practical_questions_in_the_atta_.ipynb\" target=\"_parent\"><img src=\"https://colab.research.google.com/assets/colab-badge.svg\" alt=\"Open In Colab\"/></a>"
      ]
    },
    {
      "cell_type": "markdown",
      "source": [
        "#1.\tWhat are data structures, and why are they important?\n",
        "\n",
        "Data structures are ways of organizing and storing data in a computer so that it can be accessed and modified efficiently. They are important because they enable efficient storage and retrieval of data, which is crucial for the performance of algorithms and the overall efficiency of software applications.\n"
      ],
      "metadata": {
        "id": "X6nhXv1d4nhO"
      }
    },
    {
      "cell_type": "markdown",
      "source": [
        "#2.\tExplain the difference between mutable and immutable data types with examples.\n",
        "\n",
        "Mutable data types can be changed after they are created, meaning their content can be altered without creating a new object. Examples include lists, dictionaries, and sets. Immutable data types, on the other hand, cannot be changed after creation; any modification operation will result in a new object. Examples include numbers (integers, floats), strings, and tuples.\n",
        "\n",
        "o\tExample of Mutable (List):\n",
        "Python\n",
        "my_list = [1, 2, 3]\n",
        "my_list.append(4)\n",
        "print(my_list) # Output: [1, 2, 3, 4]\n",
        "\n",
        "o\tExample of Immutable (String):\n",
        "Python\n",
        "my_string = \"hello\"\n",
        "# my_string[0] = 'H' # This would raise a TypeError\n",
        "new_string = my_string + \" world\"\n",
        "print(my_string) # Output: hello\n",
        "print(new_string) # Output: hello world\n"
      ],
      "metadata": {
        "id": "DVLQPEB_5rWj"
      }
    },
    {
      "cell_type": "markdown",
      "source": [
        "\n",
        "#3.\tWhat are the main differences between lists and tuples in Python?\n",
        "\n",
        "The main differences between lists and tuples in Python are mutability and syntax. Lists are mutable, meaning their elements can be changed, added, or removed after creation. They are defined using square brackets [ ]. Tuples are immutable, meaning their elements cannot be changed after creation. They are defined using parentheses ( ).\n"
      ],
      "metadata": {
        "id": "_T2dcRjk6PRX"
      }
    },
    {
      "cell_type": "markdown",
      "source": [
        "#4.\tDescribe how dictionaries store data.\n",
        "\n",
        "Dictionaries in Python store data as key-value pairs. Each key must be unique and immutable (e.g., strings, numbers, tuples), and it maps to a corresponding value, which can be of any data type. This allows for efficient retrieval of values using their associated keys.\n"
      ],
      "metadata": {
        "id": "119bwdW66cZ4"
      }
    },
    {
      "cell_type": "markdown",
      "source": [
        "#5.\tWhy might you use a set instead of a list in Python?\n",
        "\n",
        "You might use a set instead of a list in Python primarily for two reasons: to store only unique elements and for efficient membership testing. Sets automatically handle duplicate values, ensuring that each element is unique. Additionally, checking for the presence of an element in a set is generally faster than in a list, especially for large collections, due to sets being implemented using hash tables.\n"
      ],
      "metadata": {
        "id": "HNGNZ-wl7kn6"
      }
    },
    {
      "cell_type": "markdown",
      "source": [
        "#6.\tWhat is a string in Python, and how is it different from a list?\n",
        "\n",
        "A string in Python is an immutable sequence of characters. It's used to represent text. A list, on the other hand, is a mutable, ordered sequence of elements that can be of different data types6. The key differences are mutability (strings are immutable, lists are mutable) and the type of elements they typically hold (strings hold characters, lists can hold any data type).\n"
      ],
      "metadata": {
        "id": "D-AC-wOK8PlF"
      }
    },
    {
      "cell_type": "markdown",
      "source": [
        "#7.\tHow do tuples ensure data integrity in Python?\n",
        "Tuples ensure data integrity in Python because they are immutable. Once a tuple is created, its elements cannot be changed, added, or removed. This immutability prevents accidental modification of the data, making tuples suitable for storing collections of items that should remain constant throughout the program's execution, thereby ensuring their integrity.\n"
      ],
      "metadata": {
        "id": "rFQJUXTq8Zxx"
      }
    },
    {
      "cell_type": "markdown",
      "source": [
        "#8.\tWhat's a hash table, and how does it relate to dictionaries in Python?\n",
        "\n",
        "A hash table is a data structure that implements an associative array abstract data type, a structure that can map keys to values. It uses a hash function to compute an index into an array of buckets or slots, from which the desired value can be found. Dictionaries in Python are implemented using hash tables. This underlying implementation allows dictionaries to provide very fast average-case time complexity for operations like insertion, deletion, and lookup (retrieval by key).\n"
      ],
      "metadata": {
        "id": "2jATMWCG8n5Y"
      }
    },
    {
      "cell_type": "markdown",
      "source": [
        "#9.\tCan lists contain different data types in Python?\n",
        "\n",
        "Yes, lists can contain different data types in Python. For example, a single list can hold an integer, a string, a float, and even another list or dictionary as its elements.\n"
      ],
      "metadata": {
        "id": "DpjrcLrZ8yze"
      }
    },
    {
      "cell_type": "markdown",
      "source": [
        "#10.\tExplain why strings are immutable in Python.\n",
        "\n",
        "Strings are immutable in Python because this design choice offers several benefits. Immutability makes strings hashable, allowing them to be used as keys in dictionaries and elements in sets. It also contributes to thread safety, as multiple threads can access a string without worrying about its value changing unexpectedly. Furthermore, immutability can lead to performance optimizations, as Python can pre-allocate and reuse string objects.\n"
      ],
      "metadata": {
        "id": "dXb4-mKE85e8"
      }
    },
    {
      "cell_type": "markdown",
      "source": [
        "#11.\tWhat advantages do dictionaries offer over lists for certain tasks?\n",
        "\n",
        "Dictionaries offer significant advantages over lists for certain tasks, primarily due to their key-value pair structure. They allow for very fast data retrieval by key, making them ideal when you need to look up information based on a unique identifier. In contrast, searching for an element in a list typically requires iterating through the list, which can be much slower for large lists. Dictionaries are also useful for representing structured data where each piece of information has a meaningful label (the key).\n"
      ],
      "metadata": {
        "id": "kNhvUCuA98Kl"
      }
    },
    {
      "cell_type": "markdown",
      "source": [
        "#12.\tDescribe a scenario where using a tuple would be preferable over a list.\n",
        "\n",
        "A scenario where using a tuple would be preferable over a list is when you need to store a collection of related items that should not change, such as geographical coordinates (latitude, longitude), RGB color codes (red, green, blue values), or a record from a database that represents an unchangeable entry. Because tuples are immutable, they provide a guarantee that the data they hold will remain constant, ensuring data integrity.\n"
      ],
      "metadata": {
        "id": "ElAP2kQi-H0P"
      }
    },
    {
      "cell_type": "markdown",
      "source": [
        "#13.\tHow do sets handle duplicate values in Python?\n",
        "\n",
        "Sets in Python inherently do not allow duplicate values. If you try to add an element that is already present in the set, the set will simply ignore the new addition, and the set will remain unchanged. When a set is created from an iterable containing duplicates, the duplicates are automatically removed.\n"
      ],
      "metadata": {
        "id": "hP-iMuex-OL5"
      }
    },
    {
      "cell_type": "markdown",
      "source": [
        "#14.\tHow does the “in” keyword work differently for lists and dictionaries?\n",
        "\n",
        "For lists, the in keyword checks for the presence of a value within the list. It iterates through the list's elements to see if there's a match. For dictionaries, the in keyword checks for the presence of a key within the dictionary. It efficiently determines if a given key exists among the dictionary's keys.\n"
      ],
      "metadata": {
        "id": "9hbJU7cg-TWu"
      }
    },
    {
      "cell_type": "markdown",
      "source": [
        "#15.\tCan you modify the elements of a tuple? Explain why or why not.\n",
        "\n",
        "No, you cannot modify the elements of a tuple after it has been created. Tuples are immutable data types in Python, meaning their contents are fixed once defined. Any attempt to change, add, or remove an element from a tuple will result in a Type Error. This immutability is a core characteristic that ensures data integrity and allows tuples to be used as dictionary keys or elements of sets (if all their elements are also immutable).\n"
      ],
      "metadata": {
        "id": "2PZxoqut-b4O"
      }
    },
    {
      "cell_type": "markdown",
      "source": [
        "#16.\tWhat is a nested dictionary, and give an example of its use case?\n",
        "\n",
        "A nested dictionary is a dictionary where the values themselves are also dictionaries. This allows for the representation of hierarchical or more complex structured data.\n",
        "\n",
        "Example Use Case: Storing information about multiple students, where each student has their own set of details.\n",
        "\n",
        "students = {\n",
        "    \"student1\": {\n",
        "        \"name\": \"Alice\",\n",
        "        \"age\": 20,\n",
        "        \"major\": \"Computer Science\"\n",
        "    },\n",
        "    \"student2\": {\n",
        "        \"name\": \"Bob\",\n",
        "        \"age\": 22,\n",
        "        \"major\": \"Electrical Engineering\"\n",
        "    }\n",
        "}\n",
        "\n",
        "# Accessing information:\n",
        "print(students[\"student1\"][\"major\"]) # Output: Computer Science\n"
      ],
      "metadata": {
        "id": "S1-IEi4p-l8Y"
      }
    },
    {
      "cell_type": "markdown",
      "source": [
        "#17.\tDescribe the time complexity of accessing elements in a dictionary.\n",
        "\n",
        "The time complexity of accessing elements in a dictionary (by key) is, on average, O(1) (constant time)15. This is because dictionaries are implemented using hash tables, which allow for direct calculation of the element's location based on its key. In the worst-case scenario (due to hash collisions), the time complexity can degrade to O(n) (linear time), but this is rare in practice with good hash functions.\n"
      ],
      "metadata": {
        "id": "SW-DbxtFADQq"
      }
    },
    {
      "cell_type": "markdown",
      "source": [
        "#18.\tIn what situations are lists preferred over dictionaries?\n",
        "\n",
        "Lists are preferred over dictionaries in situations where:\n",
        "o\tThe order of elements is important.\n",
        "o\tYou need to access elements by their integer index.\n",
        "o\tYou have a collection of items that may contain duplicates.\n",
        "o\tYou need to frequently add or remove elements from the ends of the collection (e.g., using append() or pop()).\n",
        "o\tYou are primarily iterating through a sequence of items.\n"
      ],
      "metadata": {
        "id": "Dry5lUozANP9"
      }
    },
    {
      "cell_type": "markdown",
      "source": [
        "#19.\tWhy are dictionaries considered unordered, and how does that affect data retrieval?\n",
        "\n",
        "Historically, dictionaries in Python (prior to Python 3.7) were considered unordered because they did not guarantee to maintain the insertion order of their key-value pairs16. This was a consequence of their hash table implementation. While Python 3.7+ officially guarantees insertion order preservation, the concept of \"unordered\" still highlights that you cannot rely on numerical indexing (like you can with lists) to retrieve data. Data retrieval in dictionaries is always done by key, not by position. This affects data retrieval in that you must know the specific key to access a value; you cannot, for example, ask for \"the third item\" in a dictionary.\n"
      ],
      "metadata": {
        "id": "CVVCL488AYmA"
      }
    },
    {
      "cell_type": "markdown",
      "source": [
        "#20.\tExplain the difference between a list and a dictionary in terms of data retrieval.\n",
        "\n",
        "The primary difference in data retrieval between a list and a dictionary lies in how elements are identified and accessed.\n",
        "\n",
        "#Lists#: Data retrieval in lists is based on positional indexing. Elements are accessed using integer indices, starting from 0 for the first element.\n",
        "\n",
        "For example,\n",
        "my_list[0] retrieves the first element.\n",
        "#Dictionaries:# Data retrieval in dictionaries is based on key-based lookup. Elements are accessed using their unique, immutable keys.\n",
        "\n",
        "For example,\n",
        "my_dict['my_key'] retrieves the value associated with 'my_key'. You cannot retrieve data from a dictionary using numerical indexing unless the keys themselves happen to be sequential integers.\n"
      ],
      "metadata": {
        "id": "mS5Rj4vDAjZn"
      }
    },
    {
      "cell_type": "markdown",
      "source": [
        "#1. Write a code to create a string with your name and print it."
      ],
      "metadata": {
        "id": "1vzQ1mL3OfZl"
      }
    },
    {
      "cell_type": "code",
      "source": [
        "my_name = \"Pradeep Kumar\"\n",
        "print(my_name)"
      ],
      "outputs": [
        {
          "output_type": "stream",
          "name": "stdout",
          "text": [
            "Pradeep Kumar\n"
          ]
        }
      ],
      "execution_count": null,
      "metadata": {
        "colab": {
          "base_uri": "https://localhost:8080/"
        },
        "id": "qoBCG5SyOfZp",
        "outputId": "7f5776eb-8db4-44a4-b394-e5cc58e75497"
      }
    },
    {
      "cell_type": "markdown",
      "source": [
        "#2. Write a code to find the length of the string \"Hello World\"."
      ],
      "metadata": {
        "id": "7nfNyzTaOfZr"
      }
    },
    {
      "cell_type": "code",
      "source": [
        "my_string = \"Hello World\"\n",
        "print(len(my_string))"
      ],
      "outputs": [
        {
          "output_type": "stream",
          "name": "stdout",
          "text": [
            "11\n"
          ]
        }
      ],
      "execution_count": null,
      "metadata": {
        "colab": {
          "base_uri": "https://localhost:8080/"
        },
        "id": "7-sIDTbuOfZs",
        "outputId": "ccd48178-d027-4c37-a76d-2591d95316f8"
      }
    },
    {
      "cell_type": "markdown",
      "source": [
        "#3. Write a code to slice the first 3 characters from the string \"Python Programming\"."
      ],
      "metadata": {
        "id": "q1GOeioyOfZs"
      }
    },
    {
      "cell_type": "code",
      "source": [
        "my_string = \"Python Programming\"\n",
        "print(my_string[0:3])\n",
        "    # Or simply:\n",
        "    # print(my_string[:3])"
      ],
      "outputs": [
        {
          "output_type": "stream",
          "name": "stdout",
          "text": [
            "Pyt\n"
          ]
        }
      ],
      "execution_count": null,
      "metadata": {
        "colab": {
          "base_uri": "https://localhost:8080/"
        },
        "id": "wXApeh1AOfZt",
        "outputId": "b596b7c0-1b60-40bf-fe9a-be0c762abe77"
      }
    },
    {
      "cell_type": "markdown",
      "source": [
        "#4. Write a code to convert the string \"hello\" to uppercase."
      ],
      "metadata": {
        "id": "BxhPnfg2OfZt"
      }
    },
    {
      "cell_type": "code",
      "source": [
        "my_string = \"hello\"\n",
        "print(my_string.upper())"
      ],
      "outputs": [
        {
          "output_type": "stream",
          "name": "stdout",
          "text": [
            "HELLO\n"
          ]
        }
      ],
      "execution_count": null,
      "metadata": {
        "colab": {
          "base_uri": "https://localhost:8080/"
        },
        "id": "ZxuMpWiHOfZt",
        "outputId": "de02b073-859c-43b3-e145-1f5df09cabbb"
      }
    },
    {
      "cell_type": "markdown",
      "source": [
        "#5. Write a code to replace the word \"apple\" with \"orange\" in the string \"I like apple\"."
      ],
      "metadata": {
        "id": "pq9Dn1ubOfZu"
      }
    },
    {
      "cell_type": "code",
      "source": [
        "my_string = \"I like apple\"\n",
        "print(my_string.replace(\"apple\", \"orange\"))"
      ],
      "outputs": [
        {
          "output_type": "stream",
          "name": "stdout",
          "text": [
            "I like orange\n"
          ]
        }
      ],
      "execution_count": null,
      "metadata": {
        "colab": {
          "base_uri": "https://localhost:8080/"
        },
        "id": "UWoG8cGEOfZu",
        "outputId": "8b00750e-df0f-405e-bc8b-4244578a7914"
      }
    },
    {
      "cell_type": "markdown",
      "source": [
        "#6. Write a code to create a list with numbers 1 to 5 and print it."
      ],
      "metadata": {
        "id": "rBGP1NtKOfZv"
      }
    },
    {
      "cell_type": "code",
      "source": [
        "my_list = [1, 2, 3, 4, 5]\n",
        "print(my_list)"
      ],
      "outputs": [
        {
          "output_type": "stream",
          "name": "stdout",
          "text": [
            "[1, 2, 3, 4, 5]\n"
          ]
        }
      ],
      "execution_count": null,
      "metadata": {
        "colab": {
          "base_uri": "https://localhost:8080/"
        },
        "id": "tJGUQBnYOfZv",
        "outputId": "15d31f15-a329-4693-b6eb-b266462fbec4"
      }
    },
    {
      "cell_type": "markdown",
      "source": [
        "#7. Write a code to append the number 10 to the list [1, 2, 3, 4]."
      ],
      "metadata": {
        "id": "6SUE0dTJOfZw"
      }
    },
    {
      "cell_type": "code",
      "source": [
        "my_list = [1, 2, 3, 4]\n",
        "my_list.append(10)\n",
        "print(my_list)"
      ],
      "outputs": [
        {
          "output_type": "stream",
          "name": "stdout",
          "text": [
            "[1, 2, 3, 4, 10]\n"
          ]
        }
      ],
      "execution_count": null,
      "metadata": {
        "colab": {
          "base_uri": "https://localhost:8080/"
        },
        "id": "Vuks_lZCOfZw",
        "outputId": "4dca942f-ed6d-4fb4-b85c-382d9c62f7f0"
      }
    },
    {
      "cell_type": "markdown",
      "source": [
        "#8. Write a code to remove the number 3 from the list [1, 2, 3, 4, 5]."
      ],
      "metadata": {
        "id": "mHALk4mVOfZw"
      }
    },
    {
      "cell_type": "code",
      "source": [
        "my_list = [1, 2, 3, 4, 5]\n",
        "my_list.remove(3)\n",
        "print(my_list)"
      ],
      "outputs": [
        {
          "output_type": "stream",
          "name": "stdout",
          "text": [
            "[1, 2, 4, 5]\n"
          ]
        }
      ],
      "execution_count": null,
      "metadata": {
        "colab": {
          "base_uri": "https://localhost:8080/"
        },
        "id": "1pfRoe2tOfZx",
        "outputId": "3c9cdf5c-7d68-4f50-d2f7-97d73952784d"
      }
    },
    {
      "cell_type": "markdown",
      "source": [
        "#9. Write a code to access the second element in the list ['a', 'b', 'c', 'd']."
      ],
      "metadata": {
        "id": "Xj_QI4faOfZy"
      }
    },
    {
      "cell_type": "code",
      "source": [
        "my_list = ['a', 'b', 'c', 'd']\n",
        "print(my_list[1])"
      ],
      "outputs": [
        {
          "output_type": "stream",
          "name": "stdout",
          "text": [
            "b\n"
          ]
        }
      ],
      "execution_count": null,
      "metadata": {
        "colab": {
          "base_uri": "https://localhost:8080/"
        },
        "id": "1qwYTLNAOfZy",
        "outputId": "5b88803c-1adf-447f-8c0c-69884cc766d4"
      }
    },
    {
      "cell_type": "markdown",
      "source": [
        "#10. Write a code to reverse the list [10, 20, 30, 40, 50]."
      ],
      "metadata": {
        "id": "7mAcbNldOfZy"
      }
    },
    {
      "cell_type": "code",
      "source": [
        "my_list = [10, 20, 30, 40, 50]\n",
        "my_list.reverse()\n",
        "print(my_list)\n",
        "    # Alternatively, using slicing:\n",
        "    # my_list = [10, 20, 30, 40, 50]\n",
        "    # reversed_list = my_list[::-1]\n",
        "    # print(reversed_list)"
      ],
      "outputs": [
        {
          "output_type": "stream",
          "name": "stdout",
          "text": [
            "[50, 40, 30, 20, 10]\n"
          ]
        }
      ],
      "execution_count": null,
      "metadata": {
        "colab": {
          "base_uri": "https://localhost:8080/"
        },
        "id": "NC8aYtpDOfZy",
        "outputId": "82dd4bbd-b73a-4116-8683-c7f335d6acf4"
      }
    },
    {
      "cell_type": "markdown",
      "source": [
        "#11. Write a code to create a tuple with the elements 100, 200, 300 and print it."
      ],
      "metadata": {
        "id": "AjU-p23qOfZz"
      }
    },
    {
      "cell_type": "code",
      "source": [
        "my_tuple = (100, 200, 300)\n",
        "print(my_tuple)"
      ],
      "outputs": [
        {
          "output_type": "stream",
          "name": "stdout",
          "text": [
            "(100, 200, 300)\n"
          ]
        }
      ],
      "execution_count": null,
      "metadata": {
        "colab": {
          "base_uri": "https://localhost:8080/"
        },
        "id": "1UbglyAIOfZz",
        "outputId": "f75e4ff2-5189-47e9-f347-a9c198002553"
      }
    },
    {
      "cell_type": "markdown",
      "source": [
        "#12. Write a code to access the second-to-last element of the tuple ('red', 'green', 'blue', 'yellow')."
      ],
      "metadata": {
        "id": "Gd1RxrxkOfZz"
      }
    },
    {
      "cell_type": "code",
      "source": [
        "my_tuple = ('red', 'green', 'blue', 'yellow')\n",
        "print(my_tuple[-2])"
      ],
      "outputs": [
        {
          "output_type": "stream",
          "name": "stdout",
          "text": [
            "blue\n"
          ]
        }
      ],
      "execution_count": null,
      "metadata": {
        "colab": {
          "base_uri": "https://localhost:8080/"
        },
        "id": "AltUIyjxOfZz",
        "outputId": "eb2b7960-54af-4811-cff4-d8f3d060bdf9"
      }
    },
    {
      "cell_type": "markdown",
      "source": [
        "#13. Write a code to find the minimum number in the tuple (10, 20, 5, 15)."
      ],
      "metadata": {
        "id": "HLqyI39HOfZz"
      }
    },
    {
      "cell_type": "code",
      "source": [
        "my_tuple = (10, 20, 5, 15)\n",
        "print(min(my_tuple))"
      ],
      "outputs": [
        {
          "output_type": "stream",
          "name": "stdout",
          "text": [
            "5\n"
          ]
        }
      ],
      "execution_count": null,
      "metadata": {
        "colab": {
          "base_uri": "https://localhost:8080/"
        },
        "id": "_8bBL3kVOfZz",
        "outputId": "dab6f9a6-6f1f-49c2-9bfe-44deeb6a0346"
      }
    },
    {
      "cell_type": "markdown",
      "source": [
        "#14. Write a code to find the index of the element \"cat\" in the tuple ('dog', 'cat', 'rabbit')."
      ],
      "metadata": {
        "id": "1Aq0fMr0OfZ0"
      }
    },
    {
      "cell_type": "code",
      "source": [
        "my_tuple = ('dog', 'cat', 'rabbit')\n",
        "print(my_tuple.index(\"cat\"))"
      ],
      "outputs": [
        {
          "output_type": "stream",
          "name": "stdout",
          "text": [
            "1\n"
          ]
        }
      ],
      "execution_count": null,
      "metadata": {
        "colab": {
          "base_uri": "https://localhost:8080/"
        },
        "id": "EPyijaMkOfZ0",
        "outputId": "9611a1b9-1437-4af4-db1d-0a2819ff9b77"
      }
    },
    {
      "cell_type": "markdown",
      "source": [
        "#15. Write a code to create a tuple containing three different fruits and check if \"kiwi\" is in it."
      ],
      "metadata": {
        "id": "3zy4jiYQOfZ0"
      }
    },
    {
      "cell_type": "code",
      "source": [
        "fruits_tuple = (\"apple\", \"banana\", \"orange\")\n",
        "print(\"kiwi\" in fruits_tuple)"
      ],
      "outputs": [
        {
          "output_type": "stream",
          "name": "stdout",
          "text": [
            "False\n"
          ]
        }
      ],
      "execution_count": null,
      "metadata": {
        "colab": {
          "base_uri": "https://localhost:8080/"
        },
        "id": "Bt6qaNf3OfZ0",
        "outputId": "eadb4d90-a108-42bf-9b11-3f2610fdcad5"
      }
    },
    {
      "cell_type": "markdown",
      "source": [
        "#16. Write a code to create a set with the elements 'a', 'b', 'c' and print it."
      ],
      "metadata": {
        "id": "DgqupoL6OfZ0"
      }
    },
    {
      "cell_type": "code",
      "source": [
        "my_set = {'a', 'b', 'c'}\n",
        "print(my_set)"
      ],
      "outputs": [
        {
          "output_type": "stream",
          "name": "stdout",
          "text": [
            "{'c', 'b', 'a'}\n"
          ]
        }
      ],
      "execution_count": null,
      "metadata": {
        "colab": {
          "base_uri": "https://localhost:8080/"
        },
        "id": "Fp-ukHAFOfZ0",
        "outputId": "71b71b03-d1a3-40ae-c265-cdd8ffa56b42"
      }
    },
    {
      "cell_type": "markdown",
      "source": [
        "#17. Write a code to clear all elements from the set {1, 2, 3, 4, 5}."
      ],
      "metadata": {
        "id": "aQqQNPuHOfZ0"
      }
    },
    {
      "cell_type": "code",
      "source": [
        "my_set = {1, 2, 3, 4, 5}\n",
        "my_set.clear()\n",
        "print(my_set)"
      ],
      "outputs": [
        {
          "output_type": "stream",
          "name": "stdout",
          "text": [
            "set()\n"
          ]
        }
      ],
      "execution_count": null,
      "metadata": {
        "colab": {
          "base_uri": "https://localhost:8080/"
        },
        "id": "Wp05NGjPOfZ1",
        "outputId": "d364b93f-552a-4036-81da-2c41ba5e9033"
      }
    },
    {
      "cell_type": "markdown",
      "source": [
        "#18. Write a code to remove element 4 from the set {1, 2, 3, 4}."
      ],
      "metadata": {
        "id": "j1mZZUKlOfZ1"
      }
    },
    {
      "cell_type": "code",
      "source": [
        "my_set = {1, 2, 3, 4}\n",
        "my_set.remove(4)\n",
        "print(my_set)"
      ],
      "outputs": [
        {
          "output_type": "stream",
          "name": "stdout",
          "text": [
            "{1, 2, 3}\n"
          ]
        }
      ],
      "execution_count": null,
      "metadata": {
        "colab": {
          "base_uri": "https://localhost:8080/"
        },
        "id": "78pHCJAbOfZ1",
        "outputId": "89ad78ff-9c0b-45ba-a56f-f2542459f295"
      }
    },
    {
      "cell_type": "markdown",
      "source": [
        "#19. Write a code to find the union of two sets {1, 2, 3} and {3, 4, 5}."
      ],
      "metadata": {
        "id": "Ph2UL2swOfZ1"
      }
    },
    {
      "cell_type": "code",
      "source": [
        "set1 = {1, 2, 3}\n",
        "set2 = {3, 4, 5}\n",
        "print(set1.union(set2))\n",
        "    # Alternatively:\n",
        "    # print(set1 | set2)"
      ],
      "outputs": [
        {
          "output_type": "stream",
          "name": "stdout",
          "text": [
            "{1, 2, 3, 4, 5}\n"
          ]
        }
      ],
      "execution_count": null,
      "metadata": {
        "colab": {
          "base_uri": "https://localhost:8080/"
        },
        "id": "JYRX51uSOfZ1",
        "outputId": "bd1b1d05-cd59-4c0c-8716-3743f53bd463"
      }
    },
    {
      "cell_type": "markdown",
      "source": [
        "#20. Write a code to find the intersection of two sets {1, 2, 3} and {2, 3, 4}."
      ],
      "metadata": {
        "id": "equ2WxBwOfZ3"
      }
    },
    {
      "cell_type": "code",
      "source": [
        "set1 = {1, 2, 3}\n",
        "set2 = {2, 3, 4}\n",
        "print(set1.intersection(set2))\n",
        "    # Alternatively:\n",
        "    # print(set1 & set2)"
      ],
      "outputs": [
        {
          "output_type": "stream",
          "name": "stdout",
          "text": [
            "{2, 3}\n"
          ]
        }
      ],
      "execution_count": null,
      "metadata": {
        "colab": {
          "base_uri": "https://localhost:8080/"
        },
        "id": "emz5DeuvOfaC",
        "outputId": "5eb4059d-ab01-420f-bb73-2b80e8e20ce8"
      }
    },
    {
      "cell_type": "markdown",
      "source": [
        "#21. Write a code to create a dictionary with the keys \"name\", \"age\", and \"city\", and print it."
      ],
      "metadata": {
        "id": "k0gjpfR5OfaD"
      }
    },
    {
      "cell_type": "code",
      "source": [
        "my_dict = {\n",
        "\"name\": \"Jane\",\n",
        "\"age\": 30,\n",
        "\"city\": \"London\"\n",
        "}\n",
        "print(my_dict)"
      ],
      "outputs": [
        {
          "output_type": "stream",
          "name": "stdout",
          "text": [
            "{'name': 'Jane', 'age': 30, 'city': 'London'}\n"
          ]
        }
      ],
      "execution_count": null,
      "metadata": {
        "colab": {
          "base_uri": "https://localhost:8080/"
        },
        "id": "3VlnkihIOfaD",
        "outputId": "471ee94f-2edd-40a2-deeb-5768c893420f"
      }
    },
    {
      "cell_type": "markdown",
      "source": [
        "#22. Write a code to add a new key-value pair \"country\": \"USA\" to the dictionary {'name': 'John', 'age': 25}."
      ],
      "metadata": {
        "id": "IYcvFnbtOfaD"
      }
    },
    {
      "cell_type": "code",
      "source": [
        "my_dict = {'name': 'John', 'age': 25}\n",
        "my_dict[\"country\"] = \"USA\"\n",
        "print(my_dict)"
      ],
      "outputs": [
        {
          "output_type": "stream",
          "name": "stdout",
          "text": [
            "{'name': 'John', 'age': 25, 'country': 'USA'}\n"
          ]
        }
      ],
      "execution_count": null,
      "metadata": {
        "colab": {
          "base_uri": "https://localhost:8080/"
        },
        "id": "S1BfBqTFOfaE",
        "outputId": "0fa5f78e-69f8-4eb5-caf6-bcce2ac3fb10"
      }
    },
    {
      "cell_type": "markdown",
      "source": [
        "#23. Write a code to access the value associated with the key \"name\" in the dictionary {'name': 'Alice', 'age': 30}."
      ],
      "metadata": {
        "id": "LBNrc7TCOfaE"
      }
    },
    {
      "cell_type": "code",
      "source": [
        "my_dict = {'name': 'Alice', 'age': 30}\n",
        "print(my_dict[\"name\"])"
      ],
      "outputs": [
        {
          "output_type": "stream",
          "name": "stdout",
          "text": [
            "Alice\n"
          ]
        }
      ],
      "execution_count": null,
      "metadata": {
        "colab": {
          "base_uri": "https://localhost:8080/"
        },
        "id": "g-ifxNWHOfaF",
        "outputId": "299a16a7-48eb-433a-b5d7-88ddd29ee77c"
      }
    },
    {
      "cell_type": "markdown",
      "source": [
        "#24. Write a code to remove the key \"age\" from the dictionary {'name': 'Bob', 'age': 22, 'city': 'New York'}.** [cite: 39]"
      ],
      "metadata": {
        "id": "me8lHijAOfaF"
      }
    },
    {
      "cell_type": "code",
      "source": [
        "my_dict = {'name': 'Bob', 'age': 22, 'city': 'New York'}\n",
        "del my_dict[\"age\"]\n",
        "print(my_dict)"
      ],
      "outputs": [
        {
          "output_type": "stream",
          "name": "stdout",
          "text": [
            "{'name': 'Bob', 'city': 'New York'}\n"
          ]
        }
      ],
      "execution_count": null,
      "metadata": {
        "colab": {
          "base_uri": "https://localhost:8080/"
        },
        "id": "xzAMtpHEOfaF",
        "outputId": "71c903e1-d8f8-4390-d706-20e77fb8d21a"
      }
    },
    {
      "cell_type": "markdown",
      "source": [
        "#25. Write a code to check if the key \"city\" exists in the dictionary {'name': 'Alice', 'city': 'Paris'}."
      ],
      "metadata": {
        "id": "A4HcNHP8OfaF"
      }
    },
    {
      "cell_type": "code",
      "source": [
        "my_dict = {'name': 'Alice', 'city': 'Paris'}\n",
        "print(\"city\" in my_dict)"
      ],
      "outputs": [
        {
          "output_type": "stream",
          "name": "stdout",
          "text": [
            "True\n"
          ]
        }
      ],
      "execution_count": null,
      "metadata": {
        "colab": {
          "base_uri": "https://localhost:8080/"
        },
        "id": "ggnlxLEgOfaG",
        "outputId": "73e84bdf-1b60-4020-9156-4a937239e73e"
      }
    },
    {
      "cell_type": "markdown",
      "source": [
        "#26. Write a code to create a list, a tuple, and a dictionary, and print them all."
      ],
      "metadata": {
        "id": "BI2oKsKBOfaG"
      }
    },
    {
      "cell_type": "code",
      "source": [
        "my_list = [1, 2, \"hello\"]\n",
        "my_tuple = (10, \"world\", 20)\n",
        "my_dictionary = {\"key1\": \"value1\", \"key2\": 123}\n",
        "\n",
        "print(\"List:\", my_list)\n",
        "print(\"Tuple:\", my_tuple)\n",
        "print(\"Dictionary:\", my_dictionary)"
      ],
      "outputs": [
        {
          "output_type": "stream",
          "name": "stdout",
          "text": [
            "List: [1, 2, 'hello']\n",
            "Tuple: (10, 'world', 20)\n",
            "Dictionary: {'key1': 'value1', 'key2': 123}\n"
          ]
        }
      ],
      "execution_count": null,
      "metadata": {
        "colab": {
          "base_uri": "https://localhost:8080/"
        },
        "id": "Vdc-1OUVOfaG",
        "outputId": "b4594d8e-b591-4ba9-be00-faa4055cbd90"
      }
    },
    {
      "cell_type": "markdown",
      "source": [
        "#27. Write a code to create a list of 5 random numbers between 1 and 100, sort it in ascending order, and print the result."
      ],
      "metadata": {
        "id": "y7MT8qkhOfaG"
      }
    },
    {
      "cell_type": "code",
      "source": [
        "import random\n",
        "\n",
        "random_numbers = []\n",
        "for _ in range(5):\n",
        "  random_numbers.append(random.randint(1, 100))\n",
        "\n",
        "random_numbers.sort()\n",
        "print(random_numbers)"
      ],
      "outputs": [
        {
          "output_type": "stream",
          "name": "stdout",
          "text": [
            "[10, 22, 48, 69, 76]\n"
          ]
        }
      ],
      "execution_count": null,
      "metadata": {
        "colab": {
          "base_uri": "https://localhost:8080/"
        },
        "id": "MNcTjM2EOfaG",
        "outputId": "262410cd-5b01-4343-f68b-43d569dc1c87"
      }
    },
    {
      "cell_type": "markdown",
      "source": [
        "#28. Write a code to create a list with strings and print the element at the third index."
      ],
      "metadata": {
        "id": "9GJLQqUxOfaH"
      }
    },
    {
      "cell_type": "code",
      "source": [
        "my_string_list = [\"apple\", \"banana\", \"cherry\", \"date\", \"elderberry\"]\n",
        "print(my_string_list[3])"
      ],
      "outputs": [
        {
          "output_type": "stream",
          "name": "stdout",
          "text": [
            "date\n"
          ]
        }
      ],
      "execution_count": null,
      "metadata": {
        "colab": {
          "base_uri": "https://localhost:8080/"
        },
        "id": "VGnTNyGtOfaH",
        "outputId": "8f5b4057-205a-40f2-f3d1-201ee710b8a4"
      }
    },
    {
      "cell_type": "markdown",
      "source": [
        "#29. Write a code to combine two dictionaries into one and print the result."
      ],
      "metadata": {
        "id": "YtHvRijsOfaH"
      }
    },
    {
      "cell_type": "code",
      "source": [
        "dict1 = {'a': 1, 'b': 2}\n",
        "dict2 = {'c': 3, 'd': 4}\n",
        "\n",
        "combined_dict = {**dict1, **dict2}\n",
        "print(combined_dict)\n",
        "    # Alternatively, for Python 3.9+:\n",
        "    # combined_dict = dict1 | dict2\n",
        "    # print(combined_dict)"
      ],
      "outputs": [
        {
          "output_type": "stream",
          "name": "stdout",
          "text": [
            "{'a': 1, 'b': 2, 'c': 3, 'd': 4}\n"
          ]
        }
      ],
      "execution_count": null,
      "metadata": {
        "colab": {
          "base_uri": "https://localhost:8080/"
        },
        "id": "wsXxN96IOfaH",
        "outputId": "41c36cb5-967b-43ab-a023-ba9cb4f988de"
      }
    },
    {
      "cell_type": "markdown",
      "source": [
        "#30. Write a code to convert a list of strings into a set."
      ],
      "metadata": {
        "id": "P54p2KnCOfaH"
      }
    },
    {
      "cell_type": "code",
      "source": [
        "string_list = [\"apple\", \"banana\", \"apple\", \"orange\"]\n",
        "string_set = set(string_list)\n",
        "print(string_set)"
      ],
      "outputs": [
        {
          "output_type": "stream",
          "name": "stdout",
          "text": [
            "{'orange', 'banana', 'apple'}\n"
          ]
        }
      ],
      "execution_count": null,
      "metadata": {
        "colab": {
          "base_uri": "https://localhost:8080/"
        },
        "id": "DCXRCenROfaI",
        "outputId": "a95e886a-baa7-4643-cdf6-6ac4f4128546"
      }
    },
    {
      "cell_type": "code",
      "source": [],
      "metadata": {
        "id": "sVdNrXKzSwBM"
      },
      "execution_count": null,
      "outputs": []
    }
  ],
  "metadata": {
    "colab": {
      "provenance": [],
      "include_colab_link": true
    },
    "kernelspec": {
      "display_name": "Python 3",
      "name": "python3"
    }
  },
  "nbformat": 4,
  "nbformat_minor": 0
}